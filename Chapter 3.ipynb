{
 "cells": [
  {
   "cell_type": "markdown",
   "metadata": {
    "nbpresent": {
     "id": "f2e6792a-d620-424b-9204-c727f426ee86"
    }
   },
   "source": [
    "# Chapter 3: Basic setup with Keras\n"
   ]
  },
  {
   "cell_type": "markdown",
   "metadata": {
    "nbpresent": {
     "id": "24018ef7-9496-41ee-b0be-c42ef3dce312"
    }
   },
   "source": [
    "In this chapter, we'll implement networks for\n",
    "\n",
    " Classifying movie reviews as positive or negative (binary classification) \n",
    "\n",
    " Classifying news wires by topic (multiclass classification)\n",
    "\n",
    " Estimating the price of a house, given real-estate data (regression)\n",
    "\n",
    "this is meant to be a simple practice playground for learning keras"
   ]
  },
  {
   "cell_type": "code",
   "execution_count": 54,
   "metadata": {
    "nbpresent": {
     "id": "40bf2a4d-2c4a-4cf6-bdb6-2d9651da0c69"
    }
   },
   "outputs": [],
   "source": [
    "from keras.datasets import mnist\n",
    "from keras import models\n",
    "from keras import layers\n",
    "from keras import optimizers\n",
    "from keras.utils import to_categorical\n",
    "\n"
   ]
  },
  {
   "cell_type": "code",
   "execution_count": 55,
   "metadata": {
    "collapsed": true,
    "nbpresent": {
     "id": "9d050025-dc0f-4245-bf38-ac5ec1657980"
    }
   },
   "outputs": [],
   "source": [
    "(train_images, train_labels), (test_images, test_labels) = mnist.load_data()"
   ]
  },
  {
   "cell_type": "markdown",
   "metadata": {
    "collapsed": true
   },
   "source": [
    "## Layers\n",
    "\n",
    "Layers represent the layers of a neural network. In keras, they are like Lego blocks. They accept and output tensors of specified shapes.\n",
    "\n",
    "Here are 3 types of Layers in keras.\n",
    "\n",
    "1. Dense - 2D tensors (samples, features) are stored in Dense fully connected layers\n",
    "\n",
    "2. Recurrent - 3D tensors (sample, timesteps, features) are stores in recurrent (e.g. LSTM) networks\n",
    "\n",
    "3. Convolution (2D) - 4D tensors such as images images (width,height, depth, samples) are stored in Conv2D layers"
   ]
  },
  {
   "cell_type": "markdown",
   "metadata": {},
   "source": [
    "## Loss funcs and optimizers\n",
    "\n",
    "\n",
    " Loss function (objective function)—The quantity that will be minimized during training. It represents a measure of success for the task at hand.\n",
    "\n",
    " Optimizer—Determines how the network will be updated based on the loss func- tion. It implements a specific variant of stochastic gradient descent (SGD).\n"
   ]
  },
  {
   "cell_type": "markdown",
   "metadata": {},
   "source": [
    "## Typical Keras workflow\n",
    "\n",
    " The typical Keras workflow looks just like that example:\n",
    " \n",
    "1 Define your training data: input tensors and target tensors.\n",
    "\n",
    "2 Define a network of layers (or model ) that maps your inputs to your targets.\n",
    "\n",
    "3 Configure the learning process by choosing a loss function, an optimizer, and some metrics to monitor.\n",
    "\n",
    "4 Iterate on your training data by calling the fit() method of your model.\n"
   ]
  },
  {
   "cell_type": "code",
   "execution_count": 56,
   "metadata": {},
   "outputs": [
    {
     "name": "stdout",
     "output_type": "stream",
     "text": [
      "Epoch 1/10\n",
      "60000/60000 [==============================] - 2s 32us/step - loss: 0.0119 - acc: 0.9236\n",
      "Epoch 2/10\n",
      "60000/60000 [==============================] - 2s 31us/step - loss: 0.0052 - acc: 0.9668\n",
      "Epoch 3/10\n",
      "60000/60000 [==============================] - 2s 37us/step - loss: 0.0036 - acc: 0.9775\n",
      "Epoch 4/10\n",
      "60000/60000 [==============================] - 2s 32us/step - loss: 0.0027 - acc: 0.9834\n",
      "Epoch 5/10\n",
      "60000/60000 [==============================] - 2s 31us/step - loss: 0.0022 - acc: 0.9864\n",
      "Epoch 6/10\n",
      "60000/60000 [==============================] - 2s 39us/step - loss: 0.0017 - acc: 0.9898\n",
      "Epoch 7/10\n",
      "60000/60000 [==============================] - 2s 32us/step - loss: 0.0015 - acc: 0.9912\n",
      "Epoch 8/10\n",
      "60000/60000 [==============================] - 2s 29us/step - loss: 0.0012 - acc: 0.9929\n",
      "Epoch 9/10\n",
      "60000/60000 [==============================] - 2s 34us/step - loss: 0.0010 - acc: 0.9940\n",
      "Epoch 10/10\n",
      "60000/60000 [==============================] - 2s 33us/step - loss: 8.6427e-04 - acc: 0.9951\n"
     ]
    },
    {
     "data": {
      "text/plain": [
       "<keras.callbacks.History at 0x7f87b3fda550>"
      ]
     },
     "execution_count": 56,
     "metadata": {},
     "output_type": "execute_result"
    }
   ],
   "source": [
    "# demonstrating typical Keras workflow\n",
    "\n",
    "# 1\n",
    "\n",
    "(train_images, train_labels), (test_images, test_labels) = mnist.load_data()\n",
    "\n",
    "train_images = train_images.reshape((60000,28*28))\n",
    "train_images = train_images.astype('float32')/255\n",
    "\n",
    "test_images = test_images.reshape((10000,28*28))\n",
    "test_images = test_images.astype('float32')/255\n",
    "\n",
    "train_labels = to_categorical(train_labels)\n",
    "test_labels = to_categorical(test_labels)\n",
    "\n",
    "# 2\n",
    "\n",
    "model = models.Sequential()\n",
    "model.add(layers.Dense(512,activation='relu',input_shape=(28*28,)))\n",
    "model.add(layers.Dense(10, activation='softmax'))\n",
    "\n",
    "# 3\n",
    "\n",
    "model.compile(optimizer=optimizers.RMSprop(lr=0.001),\n",
    "              loss='mse',\n",
    "              metrics=['accuracy'])\n",
    "\n",
    "# 4 \n",
    "\n",
    "model.fit(train_images, train_labels, batch_size=128, epochs=10)"
   ]
  },
  {
   "cell_type": "code",
   "execution_count": 57,
   "metadata": {},
   "outputs": [
    {
     "name": "stdout",
     "output_type": "stream",
     "text": [
      "10000/10000 [==============================] - 0s 49us/step\n",
      "test accuracy 0.9801\n"
     ]
    }
   ],
   "source": [
    "# try model on test\n",
    "\n",
    "test_loss, test_acc = model.evaluate(test_images,test_labels)\n",
    "print('test accuracy',test_acc)"
   ]
  },
  {
   "cell_type": "markdown",
   "metadata": {},
   "source": [
    "## Two ways of defining models: Sequential and Functional\n",
    "\n",
    "Sequential works for linear pass models"
   ]
  },
  {
   "cell_type": "code",
   "execution_count": 58,
   "metadata": {
    "collapsed": true
   },
   "outputs": [],
   "source": [
    "\n",
    "model = models.Sequential()\n",
    "model.add(layers.Dense(32, activation='relu', input_shape=(784,)))\n",
    "model.add(layers.Dense(10, activation='softmax'))"
   ]
  },
  {
   "cell_type": "markdown",
   "metadata": {},
   "source": [
    "Use functional for arbitrary architectures\n",
    "\n",
    "Here's the same model written in functional Keras"
   ]
  },
  {
   "cell_type": "code",
   "execution_count": 59,
   "metadata": {
    "collapsed": true
   },
   "outputs": [],
   "source": [
    "input_tensor = layers.Input(shape=(784,))\n",
    "x = layers.Dense(32, activation='relu')(input_tensor)\n",
    "output_tensor = layers.Dense(10, activation='softmax')(x)\n",
    "model = models.Model(inputs=input_tensor, outputs=output_tensor)\n"
   ]
  },
  {
   "cell_type": "markdown",
   "metadata": {},
   "source": [
    "## Practice Problem 1: IMDB review classifier\n",
    "\n",
    "num_words = 10000 means we'll only keep 10k most frequent words and discard rare words\n",
    "\n",
    "train and test data are lists of reviews\n",
    "\n",
    "each review is a list of word indices"
   ]
  },
  {
   "cell_type": "code",
   "execution_count": 60,
   "metadata": {},
   "outputs": [],
   "source": [
    "from keras.datasets import imdb\n",
    "\n",
    "# num_words = 10000 means we'll only keep 10k most frequent words\n",
    "# and discard rare words\n",
    "\n",
    "(train_data,train_labels), (test_data,test_labels) = imdb.load_data(num_words=10000)"
   ]
  },
  {
   "cell_type": "markdown",
   "metadata": {
    "collapsed": true
   },
   "source": [
    "Current data is a list of indices. To insert into neural network we need to make them tensors of same shape. \n",
    "\n",
    "To do this we one-hot encode the lists into a binary vector of size 10,000"
   ]
  },
  {
   "cell_type": "code",
   "execution_count": 61,
   "metadata": {},
   "outputs": [],
   "source": [
    "import numpy as np\n",
    "\n",
    "def vectorize_sequences(sequences,dimension=10000):\n",
    "    \n",
    "    # initializes tensor by creating an all zero matrix \n",
    "    #of shape (num_samples, dimension of one-hot vector)\n",
    "    results = np.zeros((len(sequences),dimension))\n",
    "    \n",
    "    # set one-hot indices corresponding to word to 1 if it exists\n",
    "    # in sample\n",
    "    for i, sequence in enumerate(sequences):\n",
    "        results[i,sequence] = 1\n",
    "    return results\n",
    "\n",
    "x_train = vectorize_sequences(train_data)\n",
    "x_test = vectorize_sequences(test_data)\n",
    "\n",
    "y_train = np.asarray(train_labels).astype('float32')\n",
    "y_test = np.asarray(test_labels).astype('float32')"
   ]
  },
  {
   "cell_type": "markdown",
   "metadata": {},
   "source": [
    "Now build the model\n",
    "\n",
    "1. 2 layers with 16 hidden units\n",
    "2. a 3rd layers that outputs scalar prediction 0 or 1\n"
   ]
  },
  {
   "cell_type": "code",
   "execution_count": 62,
   "metadata": {},
   "outputs": [],
   "source": [
    "model = models.Sequential()\n",
    "\n",
    "# layer 1\n",
    "model.add(layers.Dense(16,\n",
    "                       activation='relu',\n",
    "                       input_shape=(10000,)\n",
    "                      ))\n",
    "\n",
    "# layer 2\n",
    "model.add(layers.Dense(16,activation='relu'))\n",
    "\n",
    "# layer 3\n",
    "model.add(layers.Dense(1,activation='sigmoid'))\n",
    "\n",
    "# loss - binary cross entropy\n",
    "# optimizer = rmsprop (momentum)\n",
    "\n",
    "model.compile(optimizer='rmsprop',\n",
    "              loss='binary_crossentropy',\n",
    "              metrics=['accuracy']\n",
    ")"
   ]
  },
  {
   "cell_type": "code",
   "execution_count": 63,
   "metadata": {},
   "outputs": [
    {
     "name": "stdout",
     "output_type": "stream",
     "text": [
      "\n"
     ]
    }
   ],
   "source": [
    "# FOR CUSTOM OPTIMIZERS / LOSSES\n",
    "\"\"\"\n",
    "#optimizer:\n",
    "\n",
    "from keras import optimizers\n",
    "model.compile(optimizer=optimizers.RMSprop(lr=0.001),\n",
    "                loss='binary_crossentropy',\n",
    "                metrics=['accuracy'])\n",
    "\n",
    "#loss\n",
    "\n",
    "from keras import losses\n",
    "        from keras import metrics\n",
    "        model.compile(optimizer=optimizers.RMSprop(lr=0.001),\n",
    "                      loss=losses.binary_crossentropy,\n",
    "                      metrics=[metrics.binary_accuracy])\n",
    "\n",
    "\"\"\"\n",
    "print('')"
   ]
  },
  {
   "cell_type": "markdown",
   "metadata": {},
   "source": [
    "Create validation set\n",
    "\n",
    "1. set aside 10,000 samples from training data"
   ]
  },
  {
   "cell_type": "code",
   "execution_count": 64,
   "metadata": {
    "collapsed": true
   },
   "outputs": [],
   "source": [
    "x_val = x_train[:10000]\n",
    "partial_x_train = x_train[10000:]\n",
    "\n",
    "y_val = y_train[:10000]\n",
    "partial_y_train = y_train[10000:]"
   ]
  },
  {
   "cell_type": "markdown",
   "metadata": {},
   "source": [
    "Train for 20 epochs over all samples in mini batches of 512 samples\n",
    "\n",
    "monitor loss and accuracy on validation set\n",
    "            "
   ]
  },
  {
   "cell_type": "code",
   "execution_count": 65,
   "metadata": {},
   "outputs": [
    {
     "name": "stdout",
     "output_type": "stream",
     "text": [
      "Train on 15000 samples, validate on 10000 samples\n",
      "Epoch 1/20\n",
      "15000/15000 [==============================] - 2s 124us/step - loss: 0.4771 - acc: 0.8004 - val_loss: 0.3719 - val_acc: 0.8622\n",
      "Epoch 2/20\n",
      "15000/15000 [==============================] - 2s 103us/step - loss: 0.2816 - acc: 0.9091 - val_loss: 0.2992 - val_acc: 0.8852\n",
      "Epoch 3/20\n",
      "15000/15000 [==============================] - 1s 98us/step - loss: 0.2044 - acc: 0.9366 - val_loss: 0.2836 - val_acc: 0.8882\n",
      "Epoch 4/20\n",
      "15000/15000 [==============================] - 1s 96us/step - loss: 0.1656 - acc: 0.9449 - val_loss: 0.2852 - val_acc: 0.8876\n",
      "Epoch 5/20\n",
      "15000/15000 [==============================] - 1s 96us/step - loss: 0.1332 - acc: 0.9579 - val_loss: 0.3260 - val_acc: 0.8743\n",
      "Epoch 6/20\n",
      "15000/15000 [==============================] - 1s 100us/step - loss: 0.1114 - acc: 0.9661 - val_loss: 0.3227 - val_acc: 0.8778\n",
      "Epoch 7/20\n",
      "15000/15000 [==============================] - 2s 103us/step - loss: 0.0880 - acc: 0.9764 - val_loss: 0.3364 - val_acc: 0.8782\n",
      "Epoch 8/20\n",
      "15000/15000 [==============================] - 1s 95us/step - loss: 0.0760 - acc: 0.9790 - val_loss: 0.3610 - val_acc: 0.8752\n",
      "Epoch 9/20\n",
      "15000/15000 [==============================] - 1s 99us/step - loss: 0.0635 - acc: 0.9831 - val_loss: 0.3860 - val_acc: 0.8712\n",
      "Epoch 10/20\n",
      "15000/15000 [==============================] - 1s 98us/step - loss: 0.0484 - acc: 0.9881 - val_loss: 0.4111 - val_acc: 0.8696\n",
      "Epoch 11/20\n",
      "15000/15000 [==============================] - 1s 99us/step - loss: 0.0436 - acc: 0.9885 - val_loss: 0.4426 - val_acc: 0.8691\n",
      "Epoch 12/20\n",
      "15000/15000 [==============================] - 1s 97us/step - loss: 0.0333 - acc: 0.9927 - val_loss: 0.4726 - val_acc: 0.8672\n",
      "Epoch 13/20\n",
      "15000/15000 [==============================] - 1s 99us/step - loss: 0.0245 - acc: 0.9953 - val_loss: 0.5305 - val_acc: 0.8612\n",
      "Epoch 14/20\n",
      "15000/15000 [==============================] - 1s 97us/step - loss: 0.0243 - acc: 0.9953 - val_loss: 0.5396 - val_acc: 0.8603\n",
      "Epoch 15/20\n",
      "15000/15000 [==============================] - 1s 99us/step - loss: 0.0202 - acc: 0.9956 - val_loss: 0.5738 - val_acc: 0.8600\n",
      "Epoch 16/20\n",
      "15000/15000 [==============================] - 1s 100us/step - loss: 0.0108 - acc: 0.9987 - val_loss: 0.6017 - val_acc: 0.8602\n",
      "Epoch 17/20\n",
      "15000/15000 [==============================] - 1s 98us/step - loss: 0.0143 - acc: 0.9965 - val_loss: 0.6351 - val_acc: 0.8593\n",
      "Epoch 18/20\n",
      "15000/15000 [==============================] - 1s 96us/step - loss: 0.0070 - acc: 0.9996 - val_loss: 0.6721 - val_acc: 0.8583\n",
      "Epoch 19/20\n",
      "15000/15000 [==============================] - 1s 99us/step - loss: 0.0092 - acc: 0.9979 - val_loss: 0.7136 - val_acc: 0.8582\n",
      "Epoch 20/20\n",
      "15000/15000 [==============================] - 2s 102us/step - loss: 0.0038 - acc: 0.9997 - val_loss: 0.7480 - val_acc: 0.8582\n"
     ]
    }
   ],
   "source": [
    "history = model.fit(partial_x_train,\n",
    "                    partial_y_train,\n",
    "                    epochs=20,\n",
    "                    batch_size=512,\n",
    "                    validation_data=(x_val,y_val)\n",
    "                   )\n",
    "                    \n",
    "                    \n"
   ]
  },
  {
   "cell_type": "code",
   "execution_count": 66,
   "metadata": {},
   "outputs": [
    {
     "data": {
      "image/png": "[encoded data removed]",
      "text/plain": [
       "<matplotlib.figure.Figure at 0x7f87b00b32b0>"
      ]
     },
     "metadata": {},
     "output_type": "display_data"
    }
   ],
   "source": [
    "#plot\n",
    "import matplotlib.pyplot as plt\n",
    "\n",
    "history_dict = history.history\n",
    "acc = history_dict['acc']\n",
    "loss_values = history_dict['loss']\n",
    "val_loss_values = history_dict['val_loss']\n",
    "\n",
    "\n",
    "epochs = range(1, len(acc) + 1)\n",
    "plt.plot(epochs, loss_values, 'bo', label='Training loss')\n",
    "plt.plot(epochs, val_loss_values, 'b', label='Validation loss')\n",
    "plt.title('Training and validation loss')\n",
    "plt.xlabel('Epochs')\n",
    "plt.ylabel('Loss')\n",
    "plt.legend()\n",
    "plt.show()"
   ]
  },
  {
   "cell_type": "code",
   "execution_count": 67,
   "metadata": {},
   "outputs": [
    {
     "data": {
      "image/png": "[encoded data removed]",
      "text/plain": [
       "<matplotlib.figure.Figure at 0x7f87b004d860>"
      ]
     },
     "metadata": {},
     "output_type": "display_data"
    }
   ],
   "source": [
    "plt.clf()\n",
    "acc_values = history_dict['acc'] \n",
    "val_acc_values = history_dict['val_acc']\n",
    "plt.plot(epochs,acc_values, 'bo', label='Training acc')\n",
    "plt.plot(epochs, val_acc_values, 'b', label='Validation acc')\n",
    "plt.title('Training and validation accuracy')\n",
    "plt.xlabel('Epochs')\n",
    "plt.ylabel('Accuracy')\n",
    "plt.legend()\n",
    "plt.show()"
   ]
  },
  {
   "cell_type": "code",
   "execution_count": 68,
   "metadata": {},
   "outputs": [
    {
     "data": {
      "text/plain": [
       "array([[  9.99999166e-01],\n",
       "       [  3.64816941e-08],\n",
       "       [  1.47337257e-03],\n",
       "       ..., \n",
       "       [  1.66024212e-04],\n",
       "       [  9.94938970e-01],\n",
       "       [  9.93084669e-01]], dtype=float32)"
      ]
     },
     "execution_count": 68,
     "metadata": {},
     "output_type": "execute_result"
    }
   ],
   "source": [
    "model.predict(x_test)"
   ]
  },
  {
   "cell_type": "markdown",
   "metadata": {},
   "source": [
    "## Practice Problem 2: Multiclass Classifying Newswires"
   ]
  },
  {
   "cell_type": "code",
   "execution_count": 69,
   "metadata": {},
   "outputs": [
    {
     "name": "stdout",
     "output_type": "stream",
     "text": [
      "Downloading data from https://s3.amazonaws.com/text-datasets/reuters.npz\n",
      "2113536/2110848 [==============================] - 1s 0us/step\n"
     ]
    }
   ],
   "source": [
    "from keras.datasets import reuters\n",
    "\n",
    "(train_data, train_labels), (test_data, test_labels) = reuters.load_data(\n",
    "    num_words=10000)"
   ]
  },
  {
   "cell_type": "code",
   "execution_count": 80,
   "metadata": {},
   "outputs": [],
   "source": [
    "# vectorize the training / test data\n",
    "def vectorize_data(samples,dimension=10000):\n",
    "    # initialize zero matrix\n",
    "    results = np.zeros((len(samples),dimension))\n",
    "    for i, sample in enumerate(samples):\n",
    "        results[i,sample]=1\n",
    "        \n",
    "    return results\n",
    "\n",
    "\n",
    "x_train = vectorize_data(train_data)        \n",
    "x_test = vectorize_data(test_data)  \n"
   ]
  },
  {
   "cell_type": "code",
   "execution_count": 81,
   "metadata": {
    "collapsed": true
   },
   "outputs": [],
   "source": [
    "# vectorize the labels\n",
    "\n",
    "def one_hot_labels(labels,dimension=46):\n",
    "    results = np.zeros((len(labels),dimension))\n",
    "    for i,label in enumerate(labels):\n",
    "        results[i,label]=1\n",
    "    return results\n",
    "\n",
    "one_hot_train_labels = one_hot_labels(train_labels)\n",
    "one_hot_test_labels = one_hot_labels(test_labels)"
   ]
  },
  {
   "cell_type": "markdown",
   "metadata": {},
   "source": [
    "We've done one-hot loading by hand. You can also do it simply in keras\n",
    "\n",
    "one_hot_train_labels = to_categorical(train_labels)\n",
    "\n",
    "one_hot_test_labels = to_categorical(test_labels)"
   ]
  },
  {
   "cell_type": "code",
   "execution_count": 88,
   "metadata": {},
   "outputs": [
    {
     "name": "stdout",
     "output_type": "stream",
     "text": [
      "Train on 7982 samples, validate on 1000 samples\n",
      "Epoch 1/20\n",
      "7982/7982 [==============================] - 1s 106us/step - loss: 2.5085 - acc: 0.4936 - val_loss: 1.6784 - val_acc: 0.6450\n",
      "Epoch 2/20\n",
      "7982/7982 [==============================] - 1s 74us/step - loss: 1.3969 - acc: 0.7028 - val_loss: 1.3152 - val_acc: 0.7000\n",
      "Epoch 3/20\n",
      "7982/7982 [==============================] - 1s 70us/step - loss: 1.0586 - acc: 0.7751 - val_loss: 1.1313 - val_acc: 0.7550\n",
      "Epoch 4/20\n",
      "7982/7982 [==============================] - 1s 69us/step - loss: 0.8349 - acc: 0.8262 - val_loss: 1.0220 - val_acc: 0.7940\n",
      "Epoch 5/20\n",
      "7982/7982 [==============================] - 1s 72us/step - loss: 0.6605 - acc: 0.8619 - val_loss: 0.9651 - val_acc: 0.7940\n",
      "Epoch 6/20\n",
      "7982/7982 [==============================] - 1s 73us/step - loss: 0.5311 - acc: 0.8882 - val_loss: 0.8990 - val_acc: 0.8170\n",
      "Epoch 7/20\n",
      "7982/7982 [==============================] - 1s 70us/step - loss: 0.4200 - acc: 0.9107 - val_loss: 0.9212 - val_acc: 0.7940\n",
      "Epoch 8/20\n",
      "7982/7982 [==============================] - 1s 72us/step - loss: 0.3393 - acc: 0.9253 - val_loss: 0.8781 - val_acc: 0.8190\n",
      "Epoch 9/20\n",
      "7982/7982 [==============================] - 1s 72us/step - loss: 0.2849 - acc: 0.9367 - val_loss: 0.8822 - val_acc: 0.8140\n",
      "Epoch 10/20\n",
      "7982/7982 [==============================] - 1s 74us/step - loss: 0.2358 - acc: 0.9451 - val_loss: 0.9069 - val_acc: 0.8100\n",
      "Epoch 11/20\n",
      "7982/7982 [==============================] - 1s 75us/step - loss: 0.2052 - acc: 0.9489 - val_loss: 0.9188 - val_acc: 0.8160\n",
      "Epoch 12/20\n",
      "7982/7982 [==============================] - 1s 72us/step - loss: 0.1850 - acc: 0.9514 - val_loss: 0.9094 - val_acc: 0.8100\n",
      "Epoch 13/20\n",
      "7982/7982 [==============================] - 1s 69us/step - loss: 0.1584 - acc: 0.9536 - val_loss: 0.9571 - val_acc: 0.8120\n",
      "Epoch 14/20\n",
      "7982/7982 [==============================] - 1s 72us/step - loss: 0.1480 - acc: 0.9545 - val_loss: 0.9715 - val_acc: 0.8010\n",
      "Epoch 15/20\n",
      "7982/7982 [==============================] - 1s 75us/step - loss: 0.1401 - acc: 0.9554 - val_loss: 0.9465 - val_acc: 0.8180\n",
      "Epoch 16/20\n",
      "7982/7982 [==============================] - 1s 77us/step - loss: 0.1303 - acc: 0.9565 - val_loss: 1.0106 - val_acc: 0.7990\n",
      "Epoch 17/20\n",
      "7982/7982 [==============================] - 1s 69us/step - loss: 0.1232 - acc: 0.9572 - val_loss: 1.0648 - val_acc: 0.7900\n",
      "Epoch 18/20\n",
      "7982/7982 [==============================] - 1s 69us/step - loss: 0.1205 - acc: 0.9575 - val_loss: 1.0599 - val_acc: 0.7940\n",
      "Epoch 19/20\n",
      "7982/7982 [==============================] - 1s 69us/step - loss: 0.1168 - acc: 0.9578 - val_loss: 1.0531 - val_acc: 0.7980\n",
      "Epoch 20/20\n",
      "7982/7982 [==============================] - 1s 68us/step - loss: 0.1062 - acc: 0.9594 - val_loss: 1.0311 - val_acc: 0.8100\n"
     ]
    }
   ],
   "source": [
    "model = models.Sequential()\n",
    "\n",
    "model.add(layers.Dense(64,activation='relu',input_shape=(10000,)))\n",
    "model.add(layers.Dense(64,activation='relu'))\n",
    "\n",
    "# note, now we're using a softmax\n",
    "# this will output a probability dist over the 46 classes\n",
    "# the probabilities in the output vector add to 1\n",
    "model.add(layers.Dense(46,activation='softmax'))\n",
    "\n",
    "# loss - categorical cross entropy\n",
    "# optimizer - rmsprop\n",
    "\n",
    "model.compile(optimizer='rmsprop',\n",
    "              loss='categorical_crossentropy',\n",
    "              metrics=['accuracy'])\n",
    "\n",
    "# separate into training / validation sets\n",
    "x_val = x_train[:1000]\n",
    "partial_x_train = x_train[1000:]\n",
    "\n",
    "\n",
    "y_val = one_hot_train_labels[:1000]\n",
    "partial_y_train = one_hot_train_labels[1000:]\n",
    "\n",
    "# TRAIN THE BEAST!\n",
    "# train data, train labels, epochs, batch size, validation tuple\n",
    "history = model.fit(partial_x_train,\n",
    "                    partial_y_train,\n",
    "                    epochs=20,\n",
    "                    batch_size=512,\n",
    "                    validation_data=(x_val, y_val))"
   ]
  },
  {
   "cell_type": "code",
   "execution_count": 89,
   "metadata": {},
   "outputs": [
    {
     "data": {
      "image/png": "[encoded data removed]",
      "text/plain": [
       "<matplotlib.figure.Figure at 0x7f8788594940>"
      ]
     },
     "metadata": {},
     "output_type": "display_data"
    }
   ],
   "source": [
    "# plot it!\n",
    "\n",
    "\n",
    "loss = history.history['loss']\n",
    "val_loss = history.history['val_loss']\n",
    "epochs = range(1, len(loss) + 1)\n",
    "plt.plot(epochs, loss, 'bo', label='Training loss')\n",
    "plt.plot(epochs, val_loss, 'b', label='Validation loss')\n",
    "plt.title('Training and validation loss')\n",
    "plt.xlabel('Epochs')\n",
    "plt.ylabel('Loss')\n",
    "plt.legend()\n",
    "plt.show()\n"
   ]
  },
  {
   "cell_type": "code",
   "execution_count": 90,
   "metadata": {},
   "outputs": [
    {
     "data": {
      "image/png": "[encoded data removed]",
      "text/plain": [
       "<matplotlib.figure.Figure at 0x7f8794b704a8>"
      ]
     },
     "metadata": {},
     "output_type": "display_data"
    }
   ],
   "source": [
    "# clear plot\n",
    "plt.clf()\n",
    "# plot accuracy\n",
    "\n",
    "acc = history.history['acc']\n",
    "val_acc = history.history['val_acc']\n",
    "plt.plot(epochs, acc, 'bo', label='Training acc')\n",
    "plt.plot(epochs, val_acc, 'b', label='Validation acc')\n",
    "plt.title('Training and validation accuracy')\n",
    "plt.xlabel('Epochs')\n",
    "plt.ylabel('Loss')\n",
    "plt.legend()\n",
    "plt.show()\n"
   ]
  },
  {
   "cell_type": "code",
   "execution_count": 96,
   "metadata": {},
   "outputs": [
    {
     "data": {
      "text/plain": [
       "array([[  7.22124474e-04,   5.27051985e-01,   7.95544183e-04, ...,\n",
       "          1.45427757e-05,   1.82340792e-11,   6.43502499e-05],\n",
       "       [  3.33557324e-07,   6.02726499e-03,   1.70235467e-07, ...,\n",
       "          7.83417349e-08,   6.49042858e-14,   2.66768239e-07],\n",
       "       [  9.02264938e-03,   3.05973440e-02,   6.58078399e-03, ...,\n",
       "          3.28844966e-04,   4.58418363e-05,   7.48765073e-04],\n",
       "       ..., \n",
       "       [  5.05584152e-03,   3.41325216e-02,   5.97418577e-04, ...,\n",
       "          2.46562086e-05,   3.72440383e-07,   1.70168743e-04],\n",
       "       [  6.08925475e-04,   7.86612451e-01,   1.67645383e-04, ...,\n",
       "          1.33858885e-05,   2.81242896e-09,   2.83143418e-05],\n",
       "       [  9.06658388e-05,   1.50582998e-03,   2.37333006e-05, ...,\n",
       "          3.53793467e-07,   3.32770006e-10,   9.76986371e-07]], dtype=float32)"
      ]
     },
     "execution_count": 96,
     "metadata": {},
     "output_type": "execute_result"
    }
   ],
   "source": [
    "model.predict(x_test)"
   ]
  },
  {
   "cell_type": "markdown",
   "metadata": {},
   "source": [
    "You could also use integers to encode labels\n",
    "\n",
    "y_train = np.array(train_labels)\n",
    "  \n",
    "y_test = np.array(test_labels)\n",
    "\n",
    "In this case, everything is the same but you need \"sparse_categorical_crossentropy\" as the optimizer, since the data is not categorical"
   ]
  },
  {
   "cell_type": "markdown",
   "metadata": {},
   "source": [
    "## Practice problem 3: Predicting house prices, regression \n"
   ]
  },
  {
   "cell_type": "code",
   "execution_count": 97,
   "metadata": {},
   "outputs": [
    {
     "name": "stdout",
     "output_type": "stream",
     "text": [
      "Downloading data from https://s3.amazonaws.com/keras-datasets/boston_housing.npz\n",
      "57344/57026 [==============================] - 0s 2us/step\n"
     ]
    }
   ],
   "source": [
    "from keras.datasets import boston_housing\n",
    "(train_data, train_targets), (test_data, test_targets) = boston_housing.load_data()"
   ]
  },
  {
   "cell_type": "code",
   "execution_count": 98,
   "metadata": {},
   "outputs": [
    {
     "name": "stdout",
     "output_type": "stream",
     "text": [
      "(404, 13)\n",
      "(102, 13)\n"
     ]
    }
   ],
   "source": [
    "print(train_data.shape)\n",
    "print(test_data.shape)"
   ]
  },
  {
   "cell_type": "markdown",
   "metadata": {},
   "source": [
    "We have 404 / 102 training / test examples with 13 features.\n",
    "\n",
    "Features can be crime rate, rooms per house, etc and have different ranges in values [min,max]\n",
    "\n",
    "We need to normalize the data"
   ]
  },
  {
   "cell_type": "code",
   "execution_count": 103,
   "metadata": {},
   "outputs": [],
   "source": [
    "# Normalize with training data as basis\n",
    "\n",
    "# get mean of each feature\n",
    "mean = train_data.mean(axis=0)\n",
    "\n",
    "# subtract mean from values\n",
    "train_data-=mean\n",
    "\n",
    "# get standard deviation from the mean\n",
    "std = train_data.std(axis=0)\n",
    "\n",
    "# divide by std\n",
    "train_data /= std\n",
    "\n",
    "# normalize test data\n",
    "test_data-=mean\n",
    "test_data /= std"
   ]
  },
  {
   "cell_type": "code",
   "execution_count": 108,
   "metadata": {
    "collapsed": true
   },
   "outputs": [],
   "source": [
    "# build the model\n",
    "\n",
    "def build_model():\n",
    "    model = models.Sequential()\n",
    "    # input shape is the number of features (13)\n",
    "    model.add(layers.Dense(64,activation='relu',input_shape=(train_data.shape[1],)))\n",
    "    model.add(layers.Dense(64, activation='relu'))\n",
    "    # no activation since regression predicts a linear, unbounded value\n",
    "    model.add(layers.Dense(1))\n",
    "    \n",
    "    model.compile(optimizer='rmsprop', loss='mse', metrics=['mae'])\n",
    "    return model\n",
    "\n",
    "    \n",
    "    "
   ]
  },
  {
   "cell_type": "markdown",
   "metadata": {},
   "source": [
    "Small data set so we will run several times w different validation sets\n",
    "\n",
    "After we run the tests, we will average the validation scores. this is called K-fold cross validation."
   ]
  },
  {
   "cell_type": "code",
   "execution_count": 115,
   "metadata": {},
   "outputs": [
    {
     "name": "stdout",
     "output_type": "stream",
     "text": [
      "processing fold # 0\n",
      "processing fold # 1\n",
      "processing fold # 2\n",
      "processing fold # 3\n"
     ]
    }
   ],
   "source": [
    "# set up\n",
    "\n",
    "k = 4\n",
    "num_val_samples=len(train_data) // k\n",
    "num_epochs = 20\n",
    "all_scores =[]\n",
    "all_mae_histories = []\n",
    "# now run k-fold\n",
    "\n",
    "for i in range(k):\n",
    "    print('processing fold #',i)\n",
    "    #prepare the training data\n",
    "    val_data = train_data[i*num_val_samples:(i+1)*num_val_samples]\n",
    "    val_targets = train_targets[i*num_val_samples:(i+1)*num_val_samples]\n",
    "    \n",
    "    partial_train_data = np.concatenate(\n",
    "        [train_data[:i * num_val_samples],\n",
    "         train_data[(i + 1) * num_val_samples:]], axis=0\n",
    "    )\n",
    "    partial_train_targets = np.concatenate( \n",
    "        [train_targets[:i * num_val_samples],\n",
    "         train_targets[(i + 1) * num_val_samples:]], axis=0)\n",
    "    # build model\n",
    "    \n",
    "    model = build_model()\n",
    "    \n",
    "    # evaluate model on validation set\n",
    "    history = model.fit(partial_train_data, partial_train_targets,\n",
    "                        validation_data=(val_data, val_targets),\n",
    "                        epochs=num_epochs, batch_size=1, verbose=0) \n",
    "    mae_history = history.history['val_mean_absolute_error']\n",
    "    all_mae_histories.append(mae_history)\n",
    "    "
   ]
  },
  {
   "cell_type": "code",
   "execution_count": 117,
   "metadata": {},
   "outputs": [
    {
     "data": {
      "image/png": "[encoded data removed]",
      "text/plain": [
       "<matplotlib.figure.Figure at 0x7f876370feb8>"
      ]
     },
     "metadata": {},
     "output_type": "display_data"
    }
   ],
   "source": [
    "average_mae_history = [\n",
    "    np.mean([x[i] for x in all_mae_histories]) for i in range(num_epochs)]\n",
    "\n",
    "plt.plot(range(1, len(average_mae_history) + 1), average_mae_history)\n",
    "plt.xlabel('Epochs')\n",
    "plt.ylabel('Validation MAE')\n",
    "plt.show()"
   ]
  },
  {
   "cell_type": "code",
   "execution_count": 118,
   "metadata": {},
   "outputs": [
    {
     "name": "stdout",
     "output_type": "stream",
     "text": [
      "102/102 [==============================] - 0s 1ms/step\n"
     ]
    }
   ],
   "source": [
    "model = build_model()\n",
    "model.fit(train_data, train_targets,\n",
    "  epochs=80, batch_size=16, verbose=0)\n",
    "test_mse_score, test_mae_score = model.evaluate(test_data, test_targets)"
   ]
  },
  {
   "cell_type": "code",
   "execution_count": 119,
   "metadata": {},
   "outputs": [
    {
     "data": {
      "text/plain": [
       "2.8534683526731004"
      ]
     },
     "execution_count": 119,
     "metadata": {},
     "output_type": "execute_result"
    }
   ],
   "source": [
    "test_mae_score"
   ]
  },
  {
   "cell_type": "code",
   "execution_count": null,
   "metadata": {
    "collapsed": true
   },
   "outputs": [],
   "source": []
  }
 ],
 "metadata": {
  "kernelspec": {
   "display_name": "Python [default]",
   "language": "python",
   "name": "python3"
  },
  "language_info": {
   "codemirror_mode": {
    "name": "ipython",
    "version": 3
   },
   "file_extension": ".py",
   "mimetype": "text/x-python",
   "name": "python",
   "nbconvert_exporter": "python",
   "pygments_lexer": "ipython3",
   "version": "3.5.2"
  }
 },
 "nbformat": 4,
 "nbformat_minor": 2
}
