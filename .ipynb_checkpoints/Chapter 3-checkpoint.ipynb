{
 "cells": [
  {
   "cell_type": "markdown",
   "metadata": {
    "nbpresent": {
     "id": "f2e6792a-d620-424b-9204-c727f426ee86"
    }
   },
   "source": [
    "# Chapter 3: Basic setup with Keras\n"
   ]
  },
  {
   "cell_type": "markdown",
   "metadata": {
    "nbpresent": {
     "id": "24018ef7-9496-41ee-b0be-c42ef3dce312"
    }
   },
   "source": [
    "In this chapter, we'll implement networks for\n",
    "\n",
    " Classifying movie reviews as positive or negative (binary classification) \n",
    "\n",
    " Classifying news wires by topic (multiclass classification)\n",
    "\n",
    " Estimating the price of a house, given real-estate data (regression)\n",
    "\n",
    "this is meant to be a simple practice playground for learning keras"
   ]
  },
  {
   "cell_type": "code",
   "execution_count": 54,
   "metadata": {
    "nbpresent": {
     "id": "40bf2a4d-2c4a-4cf6-bdb6-2d9651da0c69"
    }
   },
   "outputs": [],
   "source": [
    "from keras.datasets import mnist\n",
    "from keras import models\n",
    "from keras import layers\n",
    "from keras import optimizers\n",
    "from keras.utils import to_categorical\n",
    "\n"
   ]
  },
  {
   "cell_type": "code",
   "execution_count": 55,
   "metadata": {
    "collapsed": true,
    "nbpresent": {
     "id": "9d050025-dc0f-4245-bf38-ac5ec1657980"
    }
   },
   "outputs": [],
   "source": [
    "(train_images, train_labels), (test_images, test_labels) = mnist.load_data()"
   ]
  },
  {
   "cell_type": "markdown",
   "metadata": {
    "collapsed": true
   },
   "source": [
    "## Layers\n",
    "\n",
    "Layers represent the layers of a neural network. In keras, they are like Lego blocks. They accept and output tensors of specified shapes.\n",
    "\n",
    "Here are 3 types of Layers in keras.\n",
    "\n",
    "1. Dense - 2D tensors (samples, features) are stored in Dense fully connected layers\n",
    "\n",
    "2. Recurrent - 3D tensors (sample, timesteps, features) are stores in recurrent (e.g. LSTM) networks\n",
    "\n",
    "3. Convolution (2D) - 4D tensors such as images images (width,height, depth, samples) are stored in Conv2D layers"
   ]
  },
  {
   "cell_type": "markdown",
   "metadata": {},
   "source": [
    "## Loss funcs and optimizers\n",
    "\n",
    "\n",
    " Loss function (objective function)—The quantity that will be minimized during training. It represents a measure of success for the task at hand.\n",
    "\n",
    " Optimizer—Determines how the network will be updated based on the loss func- tion. It implements a specific variant of stochastic gradient descent (SGD).\n"
   ]
  },
  {
   "cell_type": "markdown",
   "metadata": {},
   "source": [
    "## Typical Keras workflow\n",
    "\n",
    " The typical Keras workflow looks just like that example:\n",
    " \n",
    "1 Define your training data: input tensors and target tensors.\n",
    "\n",
    "2 Define a network of layers (or model ) that maps your inputs to your targets.\n",
    "\n",
    "3 Configure the learning process by choosing a loss function, an optimizer, and some metrics to monitor.\n",
    "\n",
    "4 Iterate on your training data by calling the fit() method of your model.\n"
   ]
  },
  {
   "cell_type": "code",
   "execution_count": 56,
   "metadata": {},
   "outputs": [
    {
     "name": "stdout",
     "output_type": "stream",
     "text": [
      "Epoch 1/10\n",
      "60000/60000 [==============================] - 2s 32us/step - loss: 0.0119 - acc: 0.9236\n",
      "Epoch 2/10\n",
      "60000/60000 [==============================] - 2s 31us/step - loss: 0.0052 - acc: 0.9668\n",
      "Epoch 3/10\n",
      "60000/60000 [==============================] - 2s 37us/step - loss: 0.0036 - acc: 0.9775\n",
      "Epoch 4/10\n",
      "60000/60000 [==============================] - 2s 32us/step - loss: 0.0027 - acc: 0.9834\n",
      "Epoch 5/10\n",
      "60000/60000 [==============================] - 2s 31us/step - loss: 0.0022 - acc: 0.9864\n",
      "Epoch 6/10\n",
      "60000/60000 [==============================] - 2s 39us/step - loss: 0.0017 - acc: 0.9898\n",
      "Epoch 7/10\n",
      "60000/60000 [==============================] - 2s 32us/step - loss: 0.0015 - acc: 0.9912\n",
      "Epoch 8/10\n",
      "60000/60000 [==============================] - 2s 29us/step - loss: 0.0012 - acc: 0.9929\n",
      "Epoch 9/10\n",
      "60000/60000 [==============================] - 2s 34us/step - loss: 0.0010 - acc: 0.9940\n",
      "Epoch 10/10\n",
      "60000/60000 [==============================] - 2s 33us/step - loss: 8.6427e-04 - acc: 0.9951\n"
     ]
    },
    {
     "data": {
      "text/plain": [
       "<keras.callbacks.History at 0x7f87b3fda550>"
      ]
     },
     "execution_count": 56,
     "metadata": {},
     "output_type": "execute_result"
    }
   ],
   "source": [
    "# demonstrating typical Keras workflow\n",
    "\n",
    "# 1\n",
    "\n",
    "(train_images, train_labels), (test_images, test_labels) = mnist.load_data()\n",
    "\n",
    "train_images = train_images.reshape((60000,28*28))\n",
    "train_images = train_images.astype('float32')/255\n",
    "\n",
    "test_images = test_images.reshape((10000,28*28))\n",
    "test_images = test_images.astype('float32')/255\n",
    "\n",
    "train_labels = to_categorical(train_labels)\n",
    "test_labels = to_categorical(test_labels)\n",
    "\n",
    "# 2\n",
    "\n",
    "model = models.Sequential()\n",
    "model.add(layers.Dense(512,activation='relu',input_shape=(28*28,)))\n",
    "model.add(layers.Dense(10, activation='softmax'))\n",
    "\n",
    "# 3\n",
    "\n",
    "model.compile(optimizer=optimizers.RMSprop(lr=0.001),\n",
    "              loss='mse',\n",
    "              metrics=['accuracy'])\n",
    "\n",
    "# 4 \n",
    "\n",
    "model.fit(train_images, train_labels, batch_size=128, epochs=10)"
   ]
  },
  {
   "cell_type": "code",
   "execution_count": 57,
   "metadata": {},
   "outputs": [
    {
     "name": "stdout",
     "output_type": "stream",
     "text": [
      "10000/10000 [==============================] - 0s 49us/step\n",
      "test accuracy 0.9801\n"
     ]
    }
   ],
   "source": [
    "# try model on test\n",
    "\n",
    "test_loss, test_acc = model.evaluate(test_images,test_labels)\n",
    "print('test accuracy',test_acc)"
   ]
  },
  {
   "cell_type": "markdown",
   "metadata": {},
   "source": [
    "## Two ways of defining models: Sequential and Functional\n",
    "\n",
    "Sequential works for linear pass models"
   ]
  },
  {
   "cell_type": "code",
   "execution_count": 58,
   "metadata": {
    "collapsed": true
   },
   "outputs": [],
   "source": [
    "\n",
    "model = models.Sequential()\n",
    "model.add(layers.Dense(32, activation='relu', input_shape=(784,)))\n",
    "model.add(layers.Dense(10, activation='softmax'))"
   ]
  },
  {
   "cell_type": "markdown",
   "metadata": {},
   "source": [
    "Use functional for arbitrary architectures\n",
    "\n",
    "Here's the same model written in functional Keras"
   ]
  },
  {
   "cell_type": "code",
   "execution_count": 59,
   "metadata": {
    "collapsed": true
   },
   "outputs": [],
   "source": [
    "input_tensor = layers.Input(shape=(784,))\n",
    "x = layers.Dense(32, activation='relu')(input_tensor)\n",
    "output_tensor = layers.Dense(10, activation='softmax')(x)\n",
    "model = models.Model(inputs=input_tensor, outputs=output_tensor)\n"
   ]
  },
  {
   "cell_type": "markdown",
   "metadata": {},
   "source": [
    "## Practice Problem 1: IMDB review classifier\n",
    "\n",
    "num_words = 10000 means we'll only keep 10k most frequent words and discard rare words\n",
    "\n",
    "train and test data are lists of reviews\n",
    "\n",
    "each review is a list of word indices"
   ]
  },
  {
   "cell_type": "code",
   "execution_count": 60,
   "metadata": {},
   "outputs": [],
   "source": [
    "from keras.datasets import imdb\n",
    "\n",
    "# num_words = 10000 means we'll only keep 10k most frequent words\n",
    "# and discard rare words\n",
    "\n",
    "(train_data,train_labels), (test_data,test_labels) = imdb.load_data(num_words=10000)"
   ]
  },
  {
   "cell_type": "markdown",
   "metadata": {
    "collapsed": true
   },
   "source": [
    "Current data is a list of indices. To insert into neural network we need to make them tensors of same shape. \n",
    "\n",
    "To do this we one-hot encode the lists into a binary vector of size 10,000"
   ]
  },
  {
   "cell_type": "code",
   "execution_count": 61,
   "metadata": {},
   "outputs": [],
   "source": [
    "import numpy as np\n",
    "\n",
    "def vectorize_sequences(sequences,dimension=10000):\n",
    "    \n",
    "    # initializes tensor by creating an all zero matrix \n",
    "    #of shape (num_samples, dimension of one-hot vector)\n",
    "    results = np.zeros((len(sequences),dimension))\n",
    "    \n",
    "    # set one-hot indices corresponding to word to 1 if it exists\n",
    "    # in sample\n",
    "    for i, sequence in enumerate(sequences):\n",
    "        results[i,sequence] = 1\n",
    "    return results\n",
    "\n",
    "x_train = vectorize_sequences(train_data)\n",
    "x_test = vectorize_sequences(test_data)\n",
    "\n",
    "y_train = np.asarray(train_labels).astype('float32')\n",
    "y_test = np.asarray(test_labels).astype('float32')"
   ]
  },
  {
   "cell_type": "markdown",
   "metadata": {},
   "source": [
    "Now build the model\n",
    "\n",
    "1. 2 layers with 16 hidden units\n",
    "2. a 3rd layers that outputs scalar prediction 0 or 1\n"
   ]
  },
  {
   "cell_type": "code",
   "execution_count": 62,
   "metadata": {},
   "outputs": [],
   "source": [
    "model = models.Sequential()\n",
    "\n",
    "# layer 1\n",
    "model.add(layers.Dense(16,\n",
    "                       activation='relu',\n",
    "                       input_shape=(10000,)\n",
    "                      ))\n",
    "\n",
    "# layer 2\n",
    "model.add(layers.Dense(16,activation='relu'))\n",
    "\n",
    "# layer 3\n",
    "model.add(layers.Dense(1,activation='sigmoid'))\n",
    "\n",
    "# loss - binary cross entropy\n",
    "# optimizer = rmsprop (momentum)\n",
    "\n",
    "model.compile(optimizer='rmsprop',\n",
    "              loss='binary_crossentropy',\n",
    "              metrics=['accuracy']\n",
    ")"
   ]
  },
  {
   "cell_type": "code",
   "execution_count": 63,
   "metadata": {},
   "outputs": [
    {
     "name": "stdout",
     "output_type": "stream",
     "text": [
      "\n"
     ]
    }
   ],
   "source": [
    "# FOR CUSTOM OPTIMIZERS / LOSSES\n",
    "\"\"\"\n",
    "#optimizer:\n",
    "\n",
    "from keras import optimizers\n",
    "model.compile(optimizer=optimizers.RMSprop(lr=0.001),\n",
    "                loss='binary_crossentropy',\n",
    "                metrics=['accuracy'])\n",
    "\n",
    "#loss\n",
    "\n",
    "from keras import losses\n",
    "        from keras import metrics\n",
    "        model.compile(optimizer=optimizers.RMSprop(lr=0.001),\n",
    "                      loss=losses.binary_crossentropy,\n",
    "                      metrics=[metrics.binary_accuracy])\n",
    "\n",
    "\"\"\"\n",
    "print('')"
   ]
  },
  {
   "cell_type": "markdown",
   "metadata": {},
   "source": [
    "Create validation set\n",
    "\n",
    "1. set aside 10,000 samples from training data"
   ]
  },
  {
   "cell_type": "code",
   "execution_count": 64,
   "metadata": {
    "collapsed": true
   },
   "outputs": [],
   "source": [
    "x_val = x_train[:10000]\n",
    "partial_x_train = x_train[10000:]\n",
    "\n",
    "y_val = y_train[:10000]\n",
    "partial_y_train = y_train[10000:]"
   ]
  },
  {
   "cell_type": "markdown",
   "metadata": {},
   "source": [
    "Train for 20 epochs over all samples in mini batches of 512 samples\n",
    "\n",
    "monitor loss and accuracy on validation set\n",
    "            "
   ]
  },
  {
   "cell_type": "code",
   "execution_count": 65,
   "metadata": {},
   "outputs": [
    {
     "name": "stdout",
     "output_type": "stream",
     "text": [
      "Train on 15000 samples, validate on 10000 samples\n",
      "Epoch 1/20\n",
      "15000/15000 [==============================] - 2s 124us/step - loss: 0.4771 - acc: 0.8004 - val_loss: 0.3719 - val_acc: 0.8622\n",
      "Epoch 2/20\n",
      "15000/15000 [==============================] - 2s 103us/step - loss: 0.2816 - acc: 0.9091 - val_loss: 0.2992 - val_acc: 0.8852\n",
      "Epoch 3/20\n",
      "15000/15000 [==============================] - 1s 98us/step - loss: 0.2044 - acc: 0.9366 - val_loss: 0.2836 - val_acc: 0.8882\n",
      "Epoch 4/20\n",
      "15000/15000 [==============================] - 1s 96us/step - loss: 0.1656 - acc: 0.9449 - val_loss: 0.2852 - val_acc: 0.8876\n",
      "Epoch 5/20\n",
      "15000/15000 [==============================] - 1s 96us/step - loss: 0.1332 - acc: 0.9579 - val_loss: 0.3260 - val_acc: 0.8743\n",
      "Epoch 6/20\n",
      "15000/15000 [==============================] - 1s 100us/step - loss: 0.1114 - acc: 0.9661 - val_loss: 0.3227 - val_acc: 0.8778\n",
      "Epoch 7/20\n",
      "15000/15000 [==============================] - 2s 103us/step - loss: 0.0880 - acc: 0.9764 - val_loss: 0.3364 - val_acc: 0.8782\n",
      "Epoch 8/20\n",
      "15000/15000 [==============================] - 1s 95us/step - loss: 0.0760 - acc: 0.9790 - val_loss: 0.3610 - val_acc: 0.8752\n",
      "Epoch 9/20\n",
      "15000/15000 [==============================] - 1s 99us/step - loss: 0.0635 - acc: 0.9831 - val_loss: 0.3860 - val_acc: 0.8712\n",
      "Epoch 10/20\n",
      "15000/15000 [==============================] - 1s 98us/step - loss: 0.0484 - acc: 0.9881 - val_loss: 0.4111 - val_acc: 0.8696\n",
      "Epoch 11/20\n",
      "15000/15000 [==============================] - 1s 99us/step - loss: 0.0436 - acc: 0.9885 - val_loss: 0.4426 - val_acc: 0.8691\n",
      "Epoch 12/20\n",
      "15000/15000 [==============================] - 1s 97us/step - loss: 0.0333 - acc: 0.9927 - val_loss: 0.4726 - val_acc: 0.8672\n",
      "Epoch 13/20\n",
      "15000/15000 [==============================] - 1s 99us/step - loss: 0.0245 - acc: 0.9953 - val_loss: 0.5305 - val_acc: 0.8612\n",
      "Epoch 14/20\n",
      "15000/15000 [==============================] - 1s 97us/step - loss: 0.0243 - acc: 0.9953 - val_loss: 0.5396 - val_acc: 0.8603\n",
      "Epoch 15/20\n",
      "15000/15000 [==============================] - 1s 99us/step - loss: 0.0202 - acc: 0.9956 - val_loss: 0.5738 - val_acc: 0.8600\n",
      "Epoch 16/20\n",
      "15000/15000 [==============================] - 1s 100us/step - loss: 0.0108 - acc: 0.9987 - val_loss: 0.6017 - val_acc: 0.8602\n",
      "Epoch 17/20\n",
      "15000/15000 [==============================] - 1s 98us/step - loss: 0.0143 - acc: 0.9965 - val_loss: 0.6351 - val_acc: 0.8593\n",
      "Epoch 18/20\n",
      "15000/15000 [==============================] - 1s 96us/step - loss: 0.0070 - acc: 0.9996 - val_loss: 0.6721 - val_acc: 0.8583\n",
      "Epoch 19/20\n",
      "15000/15000 [==============================] - 1s 99us/step - loss: 0.0092 - acc: 0.9979 - val_loss: 0.7136 - val_acc: 0.8582\n",
      "Epoch 20/20\n",
      "15000/15000 [==============================] - 2s 102us/step - loss: 0.0038 - acc: 0.9997 - val_loss: 0.7480 - val_acc: 0.8582\n"
     ]
    }
   ],
   "source": [
    "history = model.fit(partial_x_train,\n",
    "                    partial_y_train,\n",
    "                    epochs=20,\n",
    "                    batch_size=512,\n",
    "                    validation_data=(x_val,y_val)\n",
    "                   )\n",
    "                    \n",
    "                    \n"
   ]
  },
  {
   "cell_type": "code",
   "execution_count": 66,
   "metadata": {},
   "outputs": [
    {
     "data": {
      "image/png": "[encoded data removed]",
      "text/plain": [
       "<matplotlib.figure.Figure at 0x7f87b00b32b0>"
      ]
     },
     "metadata": {},
     "output_type": "display_data"
    }
   ],
   "source": [
    "#plot\n",
    "import matplotlib.pyplot as plt\n",
    "\n",
    "history_dict = history.history\n",
    "acc = history_dict['acc']\n",
    "loss_values = history_dict['loss']\n",
    "val_loss_values = history_dict['val_loss']\n",
    "\n",
    "\n",
    "epochs = range(1, len(acc) + 1)\n",
    "plt.plot(epochs, loss_values, 'bo', label='Training loss')\n",
    "plt.plot(epochs, val_loss_values, 'b', label='Validation loss')\n",
    "plt.title('Training and validation loss')\n",
    "plt.xlabel('Epochs')\n",
    "plt.ylabel('Loss')\n",
    "plt.legend()\n",
    "plt.show()"
   ]
  },
  {
   "cell_type": "code",
   "execution_count": 67,
   "metadata": {},
   "outputs": [
    {
     "data": {
      "image/png": "[encoded data removed]",
      "text/plain": [
       "<matplotlib.figure.Figure at 0x7f87b004d860>"
      ]
     },
     "metadata": {},
     "output_type": "display_data"
    }
   ],
   "source": [
    "plt.clf()\n",
    "acc_values = history_dict['acc'] \n",
    "val_acc_values = history_dict['val_acc']\n",
    "plt.plot(epochs,acc_values, 'bo', label='Training acc')\n",
    "plt.plot(epochs, val_acc_values, 'b', label='Validation acc')\n",
    "plt.title('Training and validation accuracy')\n",
    "plt.xlabel('Epochs')\n",
    "plt.ylabel('Accuracy')\n",
    "plt.legend()\n",
    "plt.show()"
   ]
  },
  {
   "cell_type": "code",
   "execution_count": 68,
   "metadata": {},
   "outputs": [
    {
     "data": {
      "text/plain": [
       "array([[  9.99999166e-01],\n",
       "       [  3.64816941e-08],\n",
       "       [  1.47337257e-03],\n",
       "       ..., \n",
       "       [  1.66024212e-04],\n",
       "       [  9.94938970e-01],\n",
       "       [  9.93084669e-01]], dtype=float32)"
      ]
     },
     "execution_count": 68,
     "metadata": {},
     "output_type": "execute_result"
    }
   ],
   "source": [
    "model.predict(x_test)"
   ]
  },
  {
   "cell_type": "markdown",
   "metadata": {},
   "source": [
    "## Practice Problem 2: Multiclass Classifying Newswires"
   ]
  },
  {
   "cell_type": "code",
   "execution_count": 69,
   "metadata": {},
   "outputs": [
    {
     "name": "stdout",
     "output_type": "stream",
     "text": [
      "Downloading data from https://s3.amazonaws.com/text-datasets/reuters.npz\n",
      "2113536/2110848 [==============================] - 1s 0us/step\n"
     ]
    }
   ],
   "source": [
    "from keras.datasets import reuters\n",
    "\n",
    "(train_data, train_labels), (test_data, test_labels) = reuters.load_data(\n",
    "    num_words=10000)"
   ]
  },
  {
   "cell_type": "code",
   "execution_count": 70,
   "metadata": {},
   "outputs": [
    {
     "ename": "SyntaxError",
     "evalue": "unexpected EOF while parsing (<ipython-input-70-0bbddb295c0c>, line 6)",
     "output_type": "error",
     "traceback": [
      "\u001b[0;36m  File \u001b[0;32m\"<ipython-input-70-0bbddb295c0c>\"\u001b[0;36m, line \u001b[0;32m6\u001b[0m\n\u001b[0;31m    \u001b[0m\n\u001b[0m    ^\u001b[0m\n\u001b[0;31mSyntaxError\u001b[0m\u001b[0;31m:\u001b[0m unexpected EOF while parsing\n"
     ]
    }
   ],
   "source": [
    "# vectorize the data\n",
    "def vectorize_data(samples,dimension=10000):\n",
    "    # initialize zero matrix\n",
    "    results = np.zeros(len(samples),dimension)\n",
    "    for i, sample in enumerate(samples):\n",
    "        results[i,sample]=1\n",
    "        \n",
    "    return results\n",
    "\n",
    "x_train = vectorize_data(train_data)\n",
    "        "
   ]
  },
  {
   "cell_type": "code",
   "execution_count": null,
   "metadata": {
    "collapsed": true
   },
   "outputs": [],
   "source": []
  }
 ],
 "metadata": {
  "kernelspec": {
   "display_name": "Python [default]",
   "language": "python",
   "name": "python3"
  },
  "language_info": {
   "codemirror_mode": {
    "name": "ipython",
    "version": 3
   },
   "file_extension": ".py",
   "mimetype": "text/x-python",
   "name": "python",
   "nbconvert_exporter": "python",
   "pygments_lexer": "ipython3",
   "version": "3.5.2"
  }
 },
 "nbformat": 4,
 "nbformat_minor": 2
}
