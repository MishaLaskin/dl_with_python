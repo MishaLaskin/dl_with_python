{
 "cells": [
  {
   "cell_type": "markdown",
   "metadata": {},
   "source": [
    "# Chapter 2: Intro"
   ]
  },
  {
   "cell_type": "markdown",
   "metadata": {},
   "source": [
    "## Set up basic neural net classifier"
   ]
  },
  {
   "cell_type": "code",
   "execution_count": 1,
   "metadata": {},
   "outputs": [
    {
     "name": "stderr",
     "output_type": "stream",
     "text": [
      "Using TensorFlow backend.\n"
     ]
    }
   ],
   "source": [
    "from keras.datasets import mnist"
   ]
  },
  {
   "cell_type": "code",
   "execution_count": 2,
   "metadata": {
    "collapsed": true
   },
   "outputs": [],
   "source": [
    "(train_images, train_labels), (test_images, test_labels) = mnist.load_data()"
   ]
  },
  {
   "cell_type": "code",
   "execution_count": 3,
   "metadata": {},
   "outputs": [
    {
     "name": "stdout",
     "output_type": "stream",
     "text": [
      "(60000, 28, 28)\n",
      "[5 0 4 ..., 5 6 8]\n",
      "(10000, 28, 28)\n",
      "[7 2 1 ..., 4 5 6]\n"
     ]
    }
   ],
   "source": [
    "print(train_images.shape)\n",
    "print(train_labels)\n",
    "print(test_images.shape)\n",
    "print(test_labels)"
   ]
  },
  {
   "cell_type": "code",
   "execution_count": 4,
   "metadata": {
    "collapsed": true
   },
   "outputs": [],
   "source": [
    "# THE MODEL\n",
    "\n",
    "# 1. feed network training data\n",
    "# 2. teach networks to associate images and labels\n",
    "# 3. see if network's predictions are correct\n",
    "\n",
    "# Here is the general structure\n",
    "#\n",
    "# a) create sequential network (runs in sequence, not parallel)\n",
    "# b) create network layers (specify size and activation function)\n",
    "# c) define loss function\n",
    "# d) define optimize (back prop)\n",
    "# e) define metric to monitor training quality\n",
    "\n",
    "from keras import models\n",
    "# models specify the type of network. \n",
    "# Sequential makes sure that the model is not executed in parallel\n",
    "\n",
    "from keras import layers\n",
    "# a layer transforms input data to more 'useful' output data\n",
    "\n",
    "# (a)\n",
    "network = models.Sequential()\n",
    "# (b)\n",
    "network.add(layers.Dense(512,activation='relu',input_shape=(28*28,)))\n",
    "network.add(layers.Dense(10, activation='softmax'))\n",
    "# this model has 2 layers\n",
    "# Dense means that the layers are fully connected\n",
    "# last layer is 10-way softmax, which means it will return an array of \n",
    "# 10 probability scores (summing to 1)\n",
    "\n",
    "# (c)\n",
    "# (d)\n",
    "# (e)\n",
    "network.compile(optimizer='rmsprop',\n",
    "                loss='categorical_crossentropy',\n",
    "                metrics=['accuracy'])"
   ]
  },
  {
   "cell_type": "code",
   "execution_count": 5,
   "metadata": {
    "collapsed": true
   },
   "outputs": [],
   "source": [
    "# PREPROCESS DATA\n",
    "\n",
    "# a) reshape data to what network expects to get \n",
    "#   * initial data has shape (6000,28,28) => reshape => (6000,512)\n",
    "# b) normalize data so all values are in [0,1] interval\n",
    "#   * initial data has RGB values [0,255] => normalize [0,1]\n",
    "# c) categorically encode the labels (see Chapter 3 for explanation)\n",
    "\n",
    "# (a)\n",
    "# (b)\n",
    "train_images = train_images.reshape((60000,28*28))\n",
    "train_images = train_images.astype('float32')/255\n",
    "\n",
    "test_images = test_images.reshape((10000,28*28))\n",
    "test_images = test_images.astype('float32')/255\n",
    "\n",
    "# (c)\n",
    "\n",
    "from keras.utils import to_categorical\n",
    "\n",
    "train_labels = to_categorical(train_labels)\n",
    "test_labels = to_categorical(test_labels)"
   ]
  },
  {
   "cell_type": "code",
   "execution_count": 6,
   "metadata": {},
   "outputs": [
    {
     "name": "stdout",
     "output_type": "stream",
     "text": [
      "Epoch 1/5\n",
      "60000/60000 [==============================] - 13s 208us/step - loss: 0.2538 - acc: 0.9262\n",
      "Epoch 2/5\n",
      "60000/60000 [==============================] - 2s 30us/step - loss: 0.1030 - acc: 0.9689\n",
      "Epoch 3/5\n",
      "60000/60000 [==============================] - 2s 31us/step - loss: 0.0678 - acc: 0.9795\n",
      "Epoch 4/5\n",
      "60000/60000 [==============================] - 2s 35us/step - loss: 0.0488 - acc: 0.9848\n",
      "Epoch 5/5\n",
      "60000/60000 [==============================] - 2s 29us/step - loss: 0.0380 - acc: 0.9888\n"
     ]
    },
    {
     "data": {
      "text/plain": [
       "<keras.callbacks.History at 0x7f6e390056d8>"
      ]
     },
     "execution_count": 6,
     "metadata": {},
     "output_type": "execute_result"
    }
   ],
   "source": [
    "# TRAIN THE BEAST\n",
    "\n",
    "# two quantities are displayed\n",
    "# 1) the loss function value\n",
    "# 2) the accuracy of the network on training data\n",
    "network.fit(train_images, train_labels, epochs=5, batch_size=128)"
   ]
  },
  {
   "cell_type": "code",
   "execution_count": 7,
   "metadata": {},
   "outputs": [
    {
     "name": "stdout",
     "output_type": "stream",
     "text": [
      "10000/10000 [==============================] - 0s 44us/step\n",
      "test accuracy 0.9786\n"
     ]
    }
   ],
   "source": [
    "# TRY IT ON TEST\n",
    "\n",
    "# test accuracy is much lower \n",
    "# this is an example of OVERFITTING the training data\n",
    "\n",
    "test_loss, test_acc = network.evaluate(test_images,test_labels)\n",
    "print('test accuracy',test_acc)"
   ]
  },
  {
   "cell_type": "markdown",
   "metadata": {},
   "source": [
    "# Fundamentals"
   ]
  },
  {
   "cell_type": "markdown",
   "metadata": {},
   "source": [
    "## Tensors"
   ]
  },
  {
   "cell_type": "markdown",
   "metadata": {},
   "source": [
    "Tensors defined by\n",
    "1. Rank (number of axes)\n",
    "2. Shape (tuple that described number of elements along each axis)\n",
    "3. Data type (the data type of each element, such as float32 or char)"
   ]
  },
  {
   "cell_type": "code",
   "execution_count": 8,
   "metadata": {},
   "outputs": [
    {
     "name": "stdout",
     "output_type": "stream",
     "text": [
      "scalar dimension 0\n",
      "11\n",
      "vector dimension 1\n",
      "[1 5 3 2]\n",
      "matrix dimension 2\n",
      "[[1 5 3 2]\n",
      " [1 5 3 2]\n",
      " [1 5 3 2]]\n"
     ]
    }
   ],
   "source": [
    "import numpy as np\n",
    "\n",
    "# scalar (0D)\n",
    "scalar = np.array(11)\n",
    "print('scalar dimension',scalar.ndim)\n",
    "print(scalar)\n",
    "\n",
    "# vector (1D)\n",
    "vec = np.array([1,5,3,2])\n",
    "print('vector dimension',vec.ndim)\n",
    "print(vec)\n",
    "\n",
    "# matrix (2D)\n",
    "mat = np.array([[1,5,3,2],\n",
    "              [1,5,3,2],\n",
    "              [1,5,3,2]])\n",
    "print('matrix dimension',mat.ndim)\n",
    "print(mat)\n",
    "\n",
    "# and so on..."
   ]
  },
  {
   "cell_type": "markdown",
   "metadata": {},
   "source": [
    "## Manipulating tensors in numpy"
   ]
  },
  {
   "cell_type": "code",
   "execution_count": 9,
   "metadata": {},
   "outputs": [
    {
     "name": "stdout",
     "output_type": "stream",
     "text": [
      "(90, 28, 28)\n",
      "(60000, 14, 14)\n",
      "(60000, 14, 14)\n"
     ]
    }
   ],
   "source": [
    "# re-read data\n",
    "(train_images, train_labels), (test_images, test_labels) = mnist.load_data()\n",
    "\n",
    "# selects 10-100 (100 not included) digits from data\n",
    "s = train_images[10:100]\n",
    "print(s.shape)\n",
    "\n",
    "# generally you can select range along any access\n",
    "# e.g. select 14 x 14 pixels in bottom right\n",
    "\n",
    "s = train_images[:,14:,14:]\n",
    "print(s.shape)\n",
    "\n",
    "# negative indices are relative to end of axis\n",
    "# thi example crops to center of image\n",
    "s=train_images[:, 7:-7, 7:-7]\n",
    "print(s.shape)\n"
   ]
  },
  {
   "cell_type": "markdown",
   "metadata": {},
   "source": [
    "## Tensor operations"
   ]
  },
  {
   "cell_type": "markdown",
   "metadata": {},
   "source": [
    "example: relu transformation \n",
    "\n",
    "output = relu(dot(W,input)+b)\n",
    "\n",
    "1. dot product W . input\n",
    "2. addition +\n",
    "3. relu operation relu(x) = max(x,0)"
   ]
  },
  {
   "cell_type": "code",
   "execution_count": 10,
   "metadata": {
    "collapsed": true
   },
   "outputs": [],
   "source": [
    "# A) tensor addition from scratch\n",
    "\n",
    "def naive_add(a,b):\n",
    "    # a and b are 2D tensors\n",
    "    assert len(a.shape) == 2\n",
    "    assert a.shape == b.shape\n",
    "    \n",
    "    # don't overwrite original input\n",
    "    a=a.copy()\n",
    "    for i in range(a.shape[0]):\n",
    "        for j in range(a.shape[1]):\n",
    "            a[i,j] += b[i,j]\n",
    "    return a\n",
    "\n",
    "# B) just use numpy \n",
    "# addition z = x + y\n",
    "# relu z = np.maximum(z,0)"
   ]
  },
  {
   "cell_type": "markdown",
   "metadata": {},
   "source": [
    "## Displaying images"
   ]
  },
  {
   "cell_type": "code",
   "execution_count": 11,
   "metadata": {},
   "outputs": [
    {
     "data": {
      "image/png": "[encoded data removed]",
      "text/plain": [
       "<matplotlib.figure.Figure at 0x7f6e38d10438>"
      ]
     },
     "metadata": {},
     "output_type": "display_data"
    }
   ],
   "source": [
    "\n",
    "digit = train_images[10]\n",
    "import matplotlib.pyplot as plt\n",
    "plt.imshow(digit, cmap=plt.cm.binary)\n",
    "plt.show()"
   ]
  },
  {
   "cell_type": "markdown",
   "metadata": {
    "collapsed": true
   },
   "source": [
    "Chapter summary\n",
    "\n",
    " Learning means finding a combination of model parameters that mini- mizes a loss function for a given set of training data samples and their cor- responding targets.\n",
    "\n",
    " Learning happens by drawing random batches of data samples and their targets, and computing the gradient of the network parameters with respect to the loss on the batch. The network parameters are then moved a bit (the magnitude of the move is defined by the learning rate) in the opposite direction from the gradient.\n",
    "\n",
    " The entire learning process is made possible by the fact that neural net- works are chains of differentiable tensor operations, and thus it’s possible to apply the chain rule of derivation to find the gradient function map- ping the current parameters and current batch of data to a gradient value.\n",
    "\n",
    " Two key concepts you’ll see frequently in future chapters are loss and opti- mizers. These are the two things you need to define before you begin feed- ing data into a network.\n",
    "\n",
    " The loss is the quantity you’ll attempt to minimize during training, so it should represent a measure of success for the task you’re trying to solve.\n",
    "\n",
    " The optimizer specifies the exact way in which the gradient of the loss will be used to update parameters: for instance, it could be the RMSProp opti- mizer, SGD with momentum, and so on."
   ]
  },
  {
   "cell_type": "code",
   "execution_count": null,
   "metadata": {
    "collapsed": true
   },
   "outputs": [],
   "source": []
  }
 ],
 "metadata": {
  "kernelspec": {
   "display_name": "Python [default]",
   "language": "python",
   "name": "python3"
  },
  "language_info": {
   "codemirror_mode": {
    "name": "ipython",
    "version": 3
   },
   "file_extension": ".py",
   "mimetype": "text/x-python",
   "name": "python",
   "nbconvert_exporter": "python",
   "pygments_lexer": "ipython3",
   "version": "3.5.2"
  }
 },
 "nbformat": 4,
 "nbformat_minor": 2
}
